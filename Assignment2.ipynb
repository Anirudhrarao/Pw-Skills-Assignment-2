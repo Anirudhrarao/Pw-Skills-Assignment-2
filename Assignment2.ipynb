{
 "cells": [
  {
   "cell_type": "markdown",
   "id": "0865b324",
   "metadata": {},
   "source": [
    "## Assignment 2"
   ]
  },
  {
   "cell_type": "markdown",
   "id": "da0a4c55",
   "metadata": {},
   "source": [
    "### Solution (1)"
   ]
  },
  {
   "cell_type": "code",
   "execution_count": 4,
   "id": "4246f69f",
   "metadata": {},
   "outputs": [
    {
     "name": "stdout",
     "output_type": "stream",
     "text": [
      "Enter Your Percentage: 82\n",
      "You got B grade\n"
     ]
    }
   ],
   "source": [
    "percentage = int(input(\"Enter Your Percentage: \"))\n",
    "if percentage>90:\n",
    "    print('You got A grade.')\n",
    "elif (percentage>80 and percentage<=90):\n",
    "    print('You got B grade')\n",
    "elif (percentage>=60 and percentage<=80):\n",
    "    print('You got C grade')\n",
    "else:\n",
    "    print('You got D grade')"
   ]
  },
  {
   "cell_type": "markdown",
   "id": "61f8ee5b",
   "metadata": {},
   "source": [
    "### Solution (2)"
   ]
  },
  {
   "cell_type": "code",
   "execution_count": 7,
   "id": "9ef53b86",
   "metadata": {},
   "outputs": [
    {
     "name": "stdout",
     "output_type": "stream",
     "text": [
      "Enter Cost Price: 600000\n",
      "Tax to be paid: 90000.0\n"
     ]
    }
   ],
   "source": [
    "costprice = int(input('Enter Cost Price: '))\n",
    "if costprice>100000:\n",
    "    print(f'Tax to be paid: {costprice*0.15}')\n",
    "elif (costprice>50000 and costprice<=100000):\n",
    "    print(f'Tax to be paid: {costprice*0.1}')\n",
    "else:\n",
    "    print(f'Tax to be paid: {costprice*0.05}')"
   ]
  },
  {
   "cell_type": "markdown",
   "id": "c231b388",
   "metadata": {},
   "source": [
    "### Solution (3)"
   ]
  },
  {
   "cell_type": "code",
   "execution_count": 9,
   "id": "f6092d97",
   "metadata": {},
   "outputs": [
    {
     "name": "stdout",
     "output_type": "stream",
     "text": [
      "Enter City Name: AGRA\n",
      "Jal Mahal\n"
     ]
    }
   ],
   "source": [
    "city = input(\"Enter City Name: \").lower()\n",
    "if city == 'Delhi':\n",
    "    print('Red Fort')\n",
    "elif city == 'Agra':\n",
    "    print('Taj Mahal')\n",
    "else:\n",
    "    print('Jal Mahal')"
   ]
  },
  {
   "cell_type": "markdown",
   "id": "00e850ed",
   "metadata": {},
   "source": [
    "### Solution (4)"
   ]
  },
  {
   "cell_type": "code",
   "execution_count": 17,
   "id": "c7b0d66f",
   "metadata": {},
   "outputs": [
    {
     "name": "stdout",
     "output_type": "stream",
     "text": [
      "Total number of divided: 5\n"
     ]
    }
   ],
   "source": [
    "count = 0 \n",
    "number = 2122\n",
    "while number > 10:\n",
    "    number = number / 3\n",
    "    count += 1\n",
    "print(f'Total number of divided: {count}')"
   ]
  },
  {
   "cell_type": "markdown",
   "id": "119b8b9f",
   "metadata": {},
   "source": [
    "### Soultion (5)\n",
    "#### when we don't know how many times block of code should be repeated\n",
    "#### at that time  we will use while loop because it work on the basis of condition."
   ]
  },
  {
   "cell_type": "code",
   "execution_count": 20,
   "id": "a134ebb8",
   "metadata": {},
   "outputs": [
    {
     "name": "stdout",
     "output_type": "stream",
     "text": [
      "1\n",
      "2\n",
      "3\n",
      "4\n",
      "5\n",
      "6\n",
      "7\n",
      "8\n",
      "9\n",
      "10\n",
      "Your condition become false thats why it terminated the loop\n"
     ]
    }
   ],
   "source": [
    "# initializig num with value 1\n",
    "num = 1 \n",
    "while num <= 10:\n",
    "    print(num)\n",
    "    num += 1\n",
    "else:\n",
    "    print('Your condition become false thats why it terminated the loop')"
   ]
  },
  {
   "cell_type": "markdown",
   "id": "1a7cc8f5",
   "metadata": {},
   "source": [
    "### Solution (6)"
   ]
  },
  {
   "cell_type": "code",
   "execution_count": 27,
   "id": "53e2f46c",
   "metadata": {},
   "outputs": [
    {
     "name": "stdout",
     "output_type": "stream",
     "text": [
      "*\n",
      "**\n",
      "***\n",
      "****\n",
      "*****\n"
     ]
    }
   ],
   "source": [
    "i = 1\n",
    "while i <= 5:\n",
    "    j = 1\n",
    "    while j <= i:\n",
    "        print('*',end='')\n",
    "        j += 1\n",
    "    print('')\n",
    "    i += 1\n",
    "        "
   ]
  },
  {
   "cell_type": "code",
   "execution_count": 1,
   "id": "4793f4f9",
   "metadata": {},
   "outputs": [
    {
     "name": "stdout",
     "output_type": "stream",
     "text": [
      "*****\n",
      "****\n",
      "***\n",
      "**\n",
      "*\n"
     ]
    }
   ],
   "source": [
    "i = 1\n",
    "while i <= 5:\n",
    "    j = 5\n",
    "    while j >= i:\n",
    "        print('*',end='')\n",
    "        j -= 1\n",
    "    print('')\n",
    "    i += 1"
   ]
  },
  {
   "cell_type": "code",
   "execution_count": 4,
   "id": "f7c8650b",
   "metadata": {},
   "outputs": [
    {
     "name": "stdout",
     "output_type": "stream",
     "text": [
      "10\n",
      "9\n",
      "8\n",
      "7\n",
      "6\n",
      "5\n",
      "4\n",
      "3\n",
      "2\n",
      "1\n"
     ]
    }
   ],
   "source": [
    "i = 10\n",
    "while i >= 1:\n",
    "    print(i)\n",
    "    i -= 1"
   ]
  },
  {
   "cell_type": "code",
   "execution_count": null,
   "id": "cbec4581",
   "metadata": {},
   "outputs": [],
   "source": []
  }
 ],
 "metadata": {
  "kernelspec": {
   "display_name": "Python 3 (ipykernel)",
   "language": "python",
   "name": "python3"
  },
  "language_info": {
   "codemirror_mode": {
    "name": "ipython",
    "version": 3
   },
   "file_extension": ".py",
   "mimetype": "text/x-python",
   "name": "python",
   "nbconvert_exporter": "python",
   "pygments_lexer": "ipython3",
   "version": "3.10.4"
  }
 },
 "nbformat": 4,
 "nbformat_minor": 5
}
